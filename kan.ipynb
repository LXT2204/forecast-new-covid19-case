{
 "cells": [
  {
   "cell_type": "code",
   "execution_count": 14,
   "id": "a4bbc051-90fb-436f-92a9-2646bf2e6dd7",
   "metadata": {},
   "outputs": [
    {
     "name": "stdout",
     "output_type": "stream",
     "text": [
      "GPU is available!\n",
      "Number of GPUs: 1\n",
      "Current GPU: NVIDIA GeForce RTX 3050 Laptop GPU\n",
      "Tensor on GPU: cuda:0\n"
     ]
    }
   ],
   "source": [
    "import torch\n",
    "\n",
    "if torch.cuda.is_available():\n",
    "    print(\"GPU is available!\")\n",
    "    print(f\"Number of GPUs: {torch.cuda.device_count()}\")\n",
    "    print(f\"Current GPU: {torch.cuda.get_device_name(0)}\")\n",
    "    # Để kiểm tra xem một tensor có được tạo trên GPU không\n",
    "    x = torch.rand(5, 5).cuda()\n",
    "    print(f\"Tensor on GPU: {x.device}\")\n",
    "else:\n",
    "    print(\"GPU is NOT available.\")"
   ]
  },
  {
   "cell_type": "code",
   "execution_count": null,
   "id": "initial_id",
   "metadata": {},
   "outputs": [
    {
     "data": {
      "text/plain": [
       "<torch.autograd.anomaly_mode.set_detect_anomaly at 0x7f99e2f31ca0>"
      ]
     },
     "execution_count": 15,
     "metadata": {},
     "output_type": "execute_result"
    }
   ],
   "source": [
    "from kan import *\n",
    "import numpy as np\n",
    "import pandas as pd\n",
    "from sklearn.model_selection import train_test_split\n",
    "torch.set_default_dtype(torch.float64)\n",
    "torch.autograd.set_detect_anomaly(True)\n"
   ]
  },
  {
   "cell_type": "code",
   "execution_count": 16,
   "id": "34ec6235-5a53-4058-891b-643a8a8e3a01",
   "metadata": {},
   "outputs": [
    {
     "name": "stdout",
     "output_type": "stream",
     "text": [
      "cuda\n"
     ]
    }
   ],
   "source": [
    "device = torch.device('cuda' if torch.cuda.is_available() else 'cpu')\n",
    "print(device)"
   ]
  },
  {
   "cell_type": "code",
   "execution_count": 17,
   "id": "6245e36a-d5fd-4729-8a15-9f698448af3c",
   "metadata": {},
   "outputs": [
    {
     "data": {
      "text/plain": [
       "<bound method DataFrame.info of        iso_code continent     location        date  total_cases  new_cases   \n",
       "0           AFG      Asia  Afghanistan  2020-01-05          0.0        0.0  \\\n",
       "1           AFG      Asia  Afghanistan  2020-01-06          0.0        0.0   \n",
       "2           AFG      Asia  Afghanistan  2020-01-07          0.0        0.0   \n",
       "3           AFG      Asia  Afghanistan  2020-01-08          0.0        0.0   \n",
       "4           AFG      Asia  Afghanistan  2020-01-09          0.0        0.0   \n",
       "...         ...       ...          ...         ...          ...        ...   \n",
       "429430      ZWE    Africa     Zimbabwe  2024-07-31     266386.0        0.0   \n",
       "429431      ZWE    Africa     Zimbabwe  2024-08-01     266386.0        0.0   \n",
       "429432      ZWE    Africa     Zimbabwe  2024-08-02     266386.0        0.0   \n",
       "429433      ZWE    Africa     Zimbabwe  2024-08-03     266386.0        0.0   \n",
       "429434      ZWE    Africa     Zimbabwe  2024-08-04     266386.0        0.0   \n",
       "\n",
       "        new_cases_smoothed  total_deaths  new_deaths  new_deaths_smoothed   \n",
       "0                      NaN           0.0         0.0                  NaN  \\\n",
       "1                      NaN           0.0         0.0                  NaN   \n",
       "2                      NaN           0.0         0.0                  NaN   \n",
       "3                      NaN           0.0         0.0                  NaN   \n",
       "4                      NaN           0.0         0.0                  NaN   \n",
       "...                    ...           ...         ...                  ...   \n",
       "429430                 0.0        5740.0         0.0                  0.0   \n",
       "429431                 0.0        5740.0         0.0                  0.0   \n",
       "429432                 0.0        5740.0         0.0                  0.0   \n",
       "429433                 0.0        5740.0         0.0                  0.0   \n",
       "429434                 0.0        5740.0         0.0                  0.0   \n",
       "\n",
       "        ...  male_smokers  handwashing_facilities  hospital_beds_per_thousand   \n",
       "0       ...           NaN                   37.75                         0.5  \\\n",
       "1       ...           NaN                   37.75                         0.5   \n",
       "2       ...           NaN                   37.75                         0.5   \n",
       "3       ...           NaN                   37.75                         0.5   \n",
       "4       ...           NaN                   37.75                         0.5   \n",
       "...     ...           ...                     ...                         ...   \n",
       "429430  ...          30.7                   36.79                         1.7   \n",
       "429431  ...          30.7                   36.79                         1.7   \n",
       "429432  ...          30.7                   36.79                         1.7   \n",
       "429433  ...          30.7                   36.79                         1.7   \n",
       "429434  ...          30.7                   36.79                         1.7   \n",
       "\n",
       "        life_expectancy  human_development_index  population   \n",
       "0                 64.83                     0.51    41128772  \\\n",
       "1                 64.83                     0.51    41128772   \n",
       "2                 64.83                     0.51    41128772   \n",
       "3                 64.83                     0.51    41128772   \n",
       "4                 64.83                     0.51    41128772   \n",
       "...                 ...                      ...         ...   \n",
       "429430            61.49                     0.57    16320539   \n",
       "429431            61.49                     0.57    16320539   \n",
       "429432            61.49                     0.57    16320539   \n",
       "429433            61.49                     0.57    16320539   \n",
       "429434            61.49                     0.57    16320539   \n",
       "\n",
       "        excess_mortality_cumulative_absolute  excess_mortality_cumulative   \n",
       "0                                        NaN                          NaN  \\\n",
       "1                                        NaN                          NaN   \n",
       "2                                        NaN                          NaN   \n",
       "3                                        NaN                          NaN   \n",
       "4                                        NaN                          NaN   \n",
       "...                                      ...                          ...   \n",
       "429430                                   NaN                          NaN   \n",
       "429431                                   NaN                          NaN   \n",
       "429432                                   NaN                          NaN   \n",
       "429433                                   NaN                          NaN   \n",
       "429434                                   NaN                          NaN   \n",
       "\n",
       "        excess_mortality  excess_mortality_cumulative_per_million  \n",
       "0                    NaN                                      NaN  \n",
       "1                    NaN                                      NaN  \n",
       "2                    NaN                                      NaN  \n",
       "3                    NaN                                      NaN  \n",
       "4                    NaN                                      NaN  \n",
       "...                  ...                                      ...  \n",
       "429430               NaN                                      NaN  \n",
       "429431               NaN                                      NaN  \n",
       "429432               NaN                                      NaN  \n",
       "429433               NaN                                      NaN  \n",
       "429434               NaN                                      NaN  \n",
       "\n",
       "[429435 rows x 67 columns]>"
      ]
     },
     "execution_count": 17,
     "metadata": {},
     "output_type": "execute_result"
    }
   ],
   "source": [
    "df=pd.read_csv('data/origindata.csv')\n",
    "df.info"
   ]
  },
  {
   "cell_type": "code",
   "execution_count": 18,
   "id": "06b63226-a0d7-4f0c-8279-78819c530d21",
   "metadata": {},
   "outputs": [],
   "source": [
    "df = df[['new_cases', 'new_deaths','total_cases','handwashing_facilities']]\n",
    "df=df.dropna()"
   ]
  },
  {
   "cell_type": "code",
   "execution_count": 19,
   "id": "bdfbdb49-5063-4438-8543-3e90487bac23",
   "metadata": {},
   "outputs": [
    {
     "name": "stdout",
     "output_type": "stream",
     "text": [
      "<class 'pandas.core.frame.DataFrame'>\n",
      "Index: 160689 entries, 0 to 429434\n",
      "Data columns (total 4 columns):\n",
      " #   Column                  Non-Null Count   Dtype  \n",
      "---  ------                  --------------   -----  \n",
      " 0   new_cases               160689 non-null  float64\n",
      " 1   new_deaths              160689 non-null  float64\n",
      " 2   total_cases             160689 non-null  float64\n",
      " 3   handwashing_facilities  160689 non-null  float64\n",
      "dtypes: float64(4)\n",
      "memory usage: 6.1 MB\n"
     ]
    }
   ],
   "source": [
    "df = pd.DataFrame(df)\n",
    "df.info()"
   ]
  },
  {
   "cell_type": "code",
   "execution_count": 20,
   "id": "97da0a31-928f-49ef-8c97-3b8a220abff0",
   "metadata": {},
   "outputs": [
    {
     "name": "stdout",
     "output_type": "stream",
     "text": [
      "<class 'pandas.core.frame.DataFrame'>\n",
      "Index: 160689 entries, 0 to 429434\n",
      "Data columns (total 3 columns):\n",
      " #   Column                  Non-Null Count   Dtype  \n",
      "---  ------                  --------------   -----  \n",
      " 0   new_deaths              160689 non-null  float64\n",
      " 1   total_cases             160689 non-null  float64\n",
      " 2   handwashing_facilities  160689 non-null  float64\n",
      "dtypes: float64(3)\n",
      "memory usage: 4.9 MB\n",
      "<class 'pandas.core.frame.DataFrame'>\n",
      "Index: 160689 entries, 0 to 429434\n",
      "Data columns (total 1 columns):\n",
      " #   Column     Non-Null Count   Dtype  \n",
      "---  ------     --------------   -----  \n",
      " 0   new_cases  160689 non-null  float64\n",
      "dtypes: float64(1)\n",
      "memory usage: 2.5 MB\n"
     ]
    }
   ],
   "source": [
    "# X = df.\n",
    "X = df[['new_deaths','total_cases','handwashing_facilities']]\n",
    "y = df[['new_cases']]\n",
    "X.info()\n",
    "y.info()"
   ]
  },
  {
   "cell_type": "code",
   "execution_count": 21,
   "id": "2f8dc8c5-cbc8-41b5-b8ad-5b943e0c52ef",
   "metadata": {},
   "outputs": [
    {
     "name": "stdout",
     "output_type": "stream",
     "text": [
      "   new_deaths  total_cases  handwashing_facilities\n",
      "0         0.0          0.0                   37.75\n",
      "1         0.0          0.0                   37.75\n",
      "2         0.0          0.0                   37.75\n",
      "3         0.0          0.0                   37.75\n",
      "4         0.0          0.0                   37.75\n",
      "   new_cases\n",
      "0        0.0\n",
      "1        0.0\n",
      "2        0.0\n",
      "3        0.0\n",
      "4        0.0\n"
     ]
    }
   ],
   "source": [
    "print(X.head())\n",
    "print(y.head())"
   ]
  },
  {
   "cell_type": "code",
   "execution_count": 22,
   "id": "ae8e0c90-ff7e-42ab-bdbc-be0d7bae4030",
   "metadata": {},
   "outputs": [
    {
     "name": "stdout",
     "output_type": "stream",
     "text": [
      "Size of X_train: (128551, 3)\n",
      "Size of X_test: (32138, 3)\n",
      "Size of y_train: (128551, 1)\n",
      "Size of y_test: (32138, 1)\n"
     ]
    }
   ],
   "source": [
    "X_train, X_test, y_train, y_test = train_test_split(X, y, test_size=0.2, random_state=42)\n",
    "\n",
    "print(f\"Size of X_train: {X_train.shape}\")\n",
    "print(f\"Size of X_test: {X_test.shape}\")\n",
    "print(f\"Size of y_train: {y_train.shape}\")\n",
    "print(f\"Size of y_test: {y_test.shape}\")"
   ]
  },
  {
   "cell_type": "code",
   "execution_count": 23,
   "id": "a44917dc-576d-45a3-8164-0c52e4d97e62",
   "metadata": {},
   "outputs": [
    {
     "name": "stdout",
     "output_type": "stream",
     "text": [
      "new_deaths                float64\n",
      "total_cases               float64\n",
      "handwashing_facilities    float64\n",
      "dtype: object\n",
      "new_cases    float64\n",
      "dtype: object\n"
     ]
    }
   ],
   "source": [
    "print(X.dtypes) # For your features\n",
    "print(y.dtypes) # For your target (if it's a Pandas Series/DataFrame)"
   ]
  },
  {
   "cell_type": "code",
   "execution_count": 24,
   "id": "15cd852e-77d2-4596-bd09-792ceed6634e",
   "metadata": {},
   "outputs": [],
   "source": [
    "X_train_tensor = torch.tensor(X_train.values, dtype=torch.float64).to(device)\n",
    "X_test_tensor = torch.tensor(X_test.values, dtype=torch.float64).to(device)\n",
    "y_train_tensor = torch.tensor(y_train.values, dtype=torch.float64).to(device) # or torch.long for classification\n",
    "y_test_tensor = torch.tensor(y_test.values, dtype=torch.float64).to(device) "
   ]
  },
  {
   "cell_type": "code",
   "execution_count": 25,
   "id": "82af3b49-639a-4c4d-ac8e-55dbb19b28a6",
   "metadata": {},
   "outputs": [],
   "source": [
    "dataset={}\n",
    "dataset['train_input'] = X_train_tensor\n",
    "dataset['test_input'] = X_test_tensor\n",
    "dataset['train_label'] = y_train_tensor\n",
    "dataset['test_label'] = y_test_tensor"
   ]
  },
  {
   "cell_type": "code",
   "execution_count": 26,
   "id": "ec21aa7e-a73f-4afb-a077-cc8e21b4f281",
   "metadata": {},
   "outputs": [
    {
     "data": {
      "text/plain": [
       "(torch.Size([128551, 3]), torch.Size([128551, 1]))"
      ]
     },
     "execution_count": 26,
     "metadata": {},
     "output_type": "execute_result"
    }
   ],
   "source": [
    "dataset['train_input'].shape, dataset['train_label'].shape\n"
   ]
  },
  {
   "cell_type": "code",
   "execution_count": 27,
   "id": "8c7c01fc-36ec-4a49-9fd3-3da7227e2d00",
   "metadata": {},
   "outputs": [
    {
     "name": "stdout",
     "output_type": "stream",
     "text": [
      "Input has NaN: False\n",
      "Input has Inf: False\n",
      "Label has NaN: False\n",
      "Label has Inf: False\n"
     ]
    }
   ],
   "source": [
    "print(f\"Input has NaN: {torch.isnan(dataset['train_input']).any()}\")\n",
    "print(f\"Input has Inf: {torch.isinf(dataset['train_input']).any()}\")\n",
    "print(f\"Label has NaN: {torch.isnan(dataset['train_label']).any()}\")\n",
    "print(f\"Label has Inf: {torch.isinf(dataset['train_label']).any()}\")"
   ]
  },
  {
   "cell_type": "code",
   "execution_count": 28,
   "id": "afce8258-71f4-48f0-a5ef-4eb578d5744b",
   "metadata": {},
   "outputs": [
    {
     "name": "stdout",
     "output_type": "stream",
     "text": [
      "checkpoint directory created: ./model\n",
      "saving model version 0.0\n"
     ]
    },
    {
     "name": "stderr",
     "output_type": "stream",
     "text": [
      "| train_loss: 1.92e+05 | test_loss: 1.19e+05 | reg: 3.19e+02 | : 100%|█| 50/50 [05:41<00:00,  6.82s/\n"
     ]
    },
    {
     "name": "stdout",
     "output_type": "stream",
     "text": [
      "saving model version 0.1\n",
      "saving model version 0.2\n"
     ]
    },
    {
     "name": "stderr",
     "output_type": "stream",
     "text": [
      "| train_loss: 1.46e+05 | test_loss: 6.81e+04 | reg: 4.30e+02 | : 100%|█| 50/50 [04:52<00:00,  5.85s/\n"
     ]
    },
    {
     "name": "stdout",
     "output_type": "stream",
     "text": [
      "saving model version 0.3\n",
      "saving model version 0.4\n"
     ]
    },
    {
     "name": "stderr",
     "output_type": "stream",
     "text": [
      "| train_loss: 1.37e+05 | test_loss: 7.40e+04 | reg: 4.82e+02 | : 100%|█| 50/50 [07:50<00:00,  9.41s/"
     ]
    },
    {
     "name": "stdout",
     "output_type": "stream",
     "text": [
      "saving model version 0.5\n"
     ]
    },
    {
     "name": "stderr",
     "output_type": "stream",
     "text": [
      "\n"
     ]
    }
   ],
   "source": [
    "grids = np.array([3,10,20])\n",
    "\n",
    "\n",
    "train_losses = []\n",
    "test_losses = []\n",
    "steps = 50\n",
    "k = 3\n",
    "\n",
    "for i in range(grids.shape[0]):\n",
    "    if i == 0:\n",
    "        model = KAN(width=[dataset['train_input'].shape[1],[3,2],1], grid=grids[i], k=k, seed=1, device=device)\n",
    "    if i != 0:\n",
    "        model = model.refine(grids[i])\n",
    "    results = model.fit(dataset, opt=\"LBFGS\", steps=steps)\n",
    "    train_losses += results['train_loss']\n",
    "    test_losses += results['test_loss']"
   ]
  },
  {
   "cell_type": "code",
   "execution_count": 29,
   "id": "d5591dc3-be95-4e00-8422-cd0adb29e6b1",
   "metadata": {},
   "outputs": [
    {
     "data": {
      "image/png": "[encoded data removed]",
      "text/plain": [
       "<Figure size 640x480 with 1 Axes>"
      ]
     },
     "metadata": {},
     "output_type": "display_data"
    }
   ],
   "source": [
    "plt.plot(train_losses)\n",
    "plt.plot(test_losses)\n",
    "plt.legend(['train', 'test'])\n",
    "plt.ylabel('RMSE')\n",
    "plt.xlabel('step')\n",
    "plt.yscale('log')"
   ]
  },
  {
   "cell_type": "code",
   "execution_count": 37,
   "id": "f6e5a261-16df-4973-b580-ee4f3fb653ce",
   "metadata": {},
   "outputs": [
    {
     "data": {
      "text/plain": [
       "Text(0, 0.5, 'RMSE')"
      ]
     },
     "execution_count": 37,
     "metadata": {},
     "output_type": "execute_result"
    },
    {
     "data": {
      "image/png": "[encoded data removed]",
      "text/plain": [
       "<Figure size 640x480 with 1 Axes>"
      ]
     },
     "metadata": {},
     "output_type": "display_data"
    }
   ],
   "source": [
    "n_params = 3 * grids\n",
    "train_vs_G = train_losses[(steps-1)::steps]\n",
    "test_vs_G = test_losses[(steps-1)::steps]\n",
    "plt.plot(n_params, train_vs_G, marker=\"o\")\n",
    "plt.plot(n_params, test_vs_G, marker=\"o\")\n",
    "plt.plot(n_params, 100*n_params**(2.), ls=\"--\", color=\"black\")\n",
    "plt.xscale('log')\n",
    "plt.yscale('log')\n",
    "plt.legend(['train', 'test', r'$N^{2}$'])\n",
    "plt.xlabel('number of params')\n",
    "plt.ylabel('RMSE')"
   ]
  },
  {
   "cell_type": "code",
   "execution_count": 41,
   "id": "24e674d8-50e0-4eeb-a2f9-e49657e3ad2e",
   "metadata": {},
   "outputs": [
    {
     "data": {
      "image/png": "[encoded data removed]",
      "text/plain": [
       "<Figure size 500x400 with 37 Axes>"
      ]
     },
     "metadata": {},
     "output_type": "display_data"
    }
   ],
   "source": [
    "model.plot(metric='forward_n')\n"
   ]
  },
  {
   "cell_type": "code",
   "execution_count": 40,
   "id": "e0c1e75d-50d9-46d7-becd-833c682eac11",
   "metadata": {},
   "outputs": [
    {
     "data": {
      "text/plain": [
       "tensor([0.2344, 0.2009, 0.9585], device='cuda:0', grad_fn=<MeanBackward1>)"
      ]
     },
     "execution_count": 40,
     "metadata": {},
     "output_type": "execute_result"
    }
   ],
   "source": [
    "model.feature_score\n"
   ]
  },
  {
   "cell_type": "code",
   "execution_count": null,
   "id": "cbcc583c-221b-47a2-9fbe-89894854421d",
   "metadata": {},
   "outputs": [],
   "source": []
  }
 ],
 "metadata": {
  "kernelspec": {
   "display_name": "Python 3 (ipykernel)",
   "language": "python",
   "name": "python3"
  },
  "language_info": {
   "codemirror_mode": {
    "name": "ipython",
    "version": 3
   },
   "file_extension": ".py",
   "mimetype": "text/x-python",
   "name": "python",
   "nbconvert_exporter": "python",
   "pygments_lexer": "ipython3",
   "version": "3.9.7"
  }
 },
 "nbformat": 4,
 "nbformat_minor": 5
}
